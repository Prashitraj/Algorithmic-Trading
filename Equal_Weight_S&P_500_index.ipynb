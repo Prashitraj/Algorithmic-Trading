{
  "nbformat": 4,
  "nbformat_minor": 0,
  "metadata": {
    "colab": {
      "name": "Equal-Weight S&P 500 index.ipynb",
      "provenance": [],
      "authorship_tag": "ABX9TyN0YyvqZd4awzEzno4nWZbm",
      "include_colab_link": true
    },
    "kernelspec": {
      "name": "python3",
      "display_name": "Python 3"
    },
    "language_info": {
      "name": "python"
    }
  },
  "cells": [
    {
      "cell_type": "markdown",
      "metadata": {
        "id": "view-in-github",
        "colab_type": "text"
      },
      "source": [
        "<a href=\"https://colab.research.google.com/github/Prashitraj/Algorithmic-Trading/blob/main/Equal_Weight_S%26P_500_index.ipynb\" target=\"_parent\"><img src=\"https://colab.research.google.com/assets/colab-badge.svg\" alt=\"Open In Colab\"/></a>"
      ]
    },
    {
      "cell_type": "code",
      "metadata": {
        "colab": {
          "base_uri": "https://localhost:8080/"
        },
        "id": "2lawDHo1HvMB",
        "outputId": "36c3107c-9d3a-41aa-df0d-f33ca65f5c8d"
      },
      "source": [
        "!pip install xlsxwriter"
      ],
      "execution_count": null,
      "outputs": [
        {
          "output_type": "stream",
          "text": [
            "Requirement already satisfied: xlsxwriter in /usr/local/lib/python3.7/dist-packages (1.3.7)\n"
          ],
          "name": "stdout"
        }
      ]
    },
    {
      "cell_type": "code",
      "metadata": {
        "id": "k0rE_yXGHKvP"
      },
      "source": [
        "import numpy as np\n",
        "import pandas as pd\n",
        "import requests\n",
        "import xlsxwriter\n",
        "import math\n"
      ],
      "execution_count": null,
      "outputs": []
    },
    {
      "cell_type": "code",
      "metadata": {
        "colab": {
          "base_uri": "https://localhost:8080/",
          "height": 419
        },
        "id": "jvJasqgBIPUU",
        "outputId": "30337073-f384-4f3f-d54d-d4b2d5c2dec3"
      },
      "source": [
        "stocks = pd.read_csv('/content/drive/MyDrive/StockAnalysis/sp_500_stocks.csv')\n",
        "stocks"
      ],
      "execution_count": null,
      "outputs": [
        {
          "output_type": "execute_result",
          "data": {
            "text/html": [
              "<div>\n",
              "<style scoped>\n",
              "    .dataframe tbody tr th:only-of-type {\n",
              "        vertical-align: middle;\n",
              "    }\n",
              "\n",
              "    .dataframe tbody tr th {\n",
              "        vertical-align: top;\n",
              "    }\n",
              "\n",
              "    .dataframe thead th {\n",
              "        text-align: right;\n",
              "    }\n",
              "</style>\n",
              "<table border=\"1\" class=\"dataframe\">\n",
              "  <thead>\n",
              "    <tr style=\"text-align: right;\">\n",
              "      <th></th>\n",
              "      <th>Ticker</th>\n",
              "    </tr>\n",
              "  </thead>\n",
              "  <tbody>\n",
              "    <tr>\n",
              "      <th>0</th>\n",
              "      <td>A</td>\n",
              "    </tr>\n",
              "    <tr>\n",
              "      <th>1</th>\n",
              "      <td>AAL</td>\n",
              "    </tr>\n",
              "    <tr>\n",
              "      <th>2</th>\n",
              "      <td>AAP</td>\n",
              "    </tr>\n",
              "    <tr>\n",
              "      <th>3</th>\n",
              "      <td>AAPL</td>\n",
              "    </tr>\n",
              "    <tr>\n",
              "      <th>4</th>\n",
              "      <td>ABBV</td>\n",
              "    </tr>\n",
              "    <tr>\n",
              "      <th>...</th>\n",
              "      <td>...</td>\n",
              "    </tr>\n",
              "    <tr>\n",
              "      <th>500</th>\n",
              "      <td>YUM</td>\n",
              "    </tr>\n",
              "    <tr>\n",
              "      <th>501</th>\n",
              "      <td>ZBH</td>\n",
              "    </tr>\n",
              "    <tr>\n",
              "      <th>502</th>\n",
              "      <td>ZBRA</td>\n",
              "    </tr>\n",
              "    <tr>\n",
              "      <th>503</th>\n",
              "      <td>ZION</td>\n",
              "    </tr>\n",
              "    <tr>\n",
              "      <th>504</th>\n",
              "      <td>ZTS</td>\n",
              "    </tr>\n",
              "  </tbody>\n",
              "</table>\n",
              "<p>505 rows × 1 columns</p>\n",
              "</div>"
            ],
            "text/plain": [
              "    Ticker\n",
              "0        A\n",
              "1      AAL\n",
              "2      AAP\n",
              "3     AAPL\n",
              "4     ABBV\n",
              "..     ...\n",
              "500    YUM\n",
              "501    ZBH\n",
              "502   ZBRA\n",
              "503   ZION\n",
              "504    ZTS\n",
              "\n",
              "[505 rows x 1 columns]"
            ]
          },
          "metadata": {
            "tags": []
          },
          "execution_count": 47
        }
      ]
    },
    {
      "cell_type": "code",
      "metadata": {
        "id": "FQ931pcBmlvx"
      },
      "source": [
        "IEX_CLOUD_API_TOKEN = 'Tpk_059b97af715d417d9f49f50b51b1c448'"
      ],
      "execution_count": null,
      "outputs": []
    },
    {
      "cell_type": "code",
      "metadata": {
        "colab": {
          "base_uri": "https://localhost:8080/"
        },
        "id": "29HQgLsgnYho",
        "outputId": "5da310c7-b68b-46bc-fb5a-41aac1fdd9ed"
      },
      "source": [
        "symbol = 'AAPL'\n",
        "api_url = f'https://sandbox.iexapis.com/stable/stock/{symbol}/quote/?token={IEX_CLOUD_API_TOKEN}'\n",
        "data = requests.get(api_url).json()\n",
        "print(data)"
      ],
      "execution_count": null,
      "outputs": [
        {
          "output_type": "stream",
          "text": [
            "{'symbol': 'AAPL', 'companyName': 'Apple Inc', 'primaryExchange': '  ACDE/KSNBLSG SAMALTGTOLA(QR)NEE', 'calculationPrice': 'tops', 'open': None, 'openTime': None, 'openSource': 'facifilo', 'close': None, 'closeTime': None, 'closeSource': 'ffciloia', 'high': None, 'highTime': None, 'highSource': None, 'low': None, 'lowTime': None, 'lowSource': None, 'latestPrice': 124.148, 'latestSource': 'IEX real time price', 'latestTime': '1:51:52 PM', 'latestUpdate': 1635004513213, 'latestVolume': None, 'iexRealtimePrice': 123.004, 'iexRealtimeSize': 118, 'iexLastUpdated': 1642036472920, 'delayedPrice': None, 'delayedPriceTime': None, 'oddLotDelayedPrice': None, 'oddLotDelayedPriceTime': None, 'extendedPrice': None, 'extendedChange': None, 'extendedChangePercent': None, 'extendedPriceTime': None, 'previousClose': 121.94, 'previousVolume': 103033056, 'change': -0.586, 'changePercent': -0.00491, 'volume': None, 'iexMarketPercent': 0.021230649810980218, 'iexVolume': 1079446, 'avgTotalVolume': 124714141, 'iexBidPrice': 125, 'iexBidSize': 408, 'iexAskPrice': 124.09, 'iexAskSize': 408, 'iexOpen': 121.89, 'iexOpenTime': 1627722000936, 'iexClose': 120.9, 'iexCloseTime': 1651249610868, 'marketCap': 2104471668253, 'peRatio': 33.47, 'week52High': 145.98, 'week52Low': 61.27, 'ytdChange': -0.09539306708219525, 'lastTradeTime': 1666126641402, 'isUSMarketOpen': True}\n"
          ],
          "name": "stdout"
        }
      ]
    },
    {
      "cell_type": "code",
      "metadata": {
        "colab": {
          "base_uri": "https://localhost:8080/"
        },
        "id": "pL0RoEV3q5wd",
        "outputId": "d3b1a45a-45f3-4d11-a3c3-4308802fb80a"
      },
      "source": [
        "price = data['latestPrice']\n",
        "mcap = data['marketCap']\n",
        "print(mcap/1000000000000)"
      ],
      "execution_count": null,
      "outputs": [
        {
          "output_type": "stream",
          "text": [
            "2.104471668253\n"
          ],
          "name": "stdout"
        }
      ]
    },
    {
      "cell_type": "code",
      "metadata": {
        "colab": {
          "base_uri": "https://localhost:8080/",
          "height": 49
        },
        "id": "VQb_YAmlskj1",
        "outputId": "0d7b3521-a16f-427a-eb26-baf4dbb86a35"
      },
      "source": [
        "my_columns = ['Ticker', 'Stock Price', 'Market Capitalization', 'Number Of Shares to Buy']\n",
        "final_dataframe = pd.DataFrame(columns=my_columns)\n",
        "final_dataframe"
      ],
      "execution_count": null,
      "outputs": [
        {
          "output_type": "execute_result",
          "data": {
            "text/html": [
              "<div>\n",
              "<style scoped>\n",
              "    .dataframe tbody tr th:only-of-type {\n",
              "        vertical-align: middle;\n",
              "    }\n",
              "\n",
              "    .dataframe tbody tr th {\n",
              "        vertical-align: top;\n",
              "    }\n",
              "\n",
              "    .dataframe thead th {\n",
              "        text-align: right;\n",
              "    }\n",
              "</style>\n",
              "<table border=\"1\" class=\"dataframe\">\n",
              "  <thead>\n",
              "    <tr style=\"text-align: right;\">\n",
              "      <th></th>\n",
              "      <th>Ticker</th>\n",
              "      <th>Stock Price</th>\n",
              "      <th>Market Capitalization</th>\n",
              "      <th>Number Of Shares to Buy</th>\n",
              "    </tr>\n",
              "  </thead>\n",
              "  <tbody>\n",
              "  </tbody>\n",
              "</table>\n",
              "</div>"
            ],
            "text/plain": [
              "Empty DataFrame\n",
              "Columns: [Ticker, Stock Price, Market Capitalization, Number Of Shares to Buy]\n",
              "Index: []"
            ]
          },
          "metadata": {
            "tags": []
          },
          "execution_count": 64
        }
      ]
    },
    {
      "cell_type": "code",
      "metadata": {
        "colab": {
          "base_uri": "https://localhost:8080/",
          "height": 80
        },
        "id": "3G3T9zB4tjM0",
        "outputId": "5c83ec45-b67c-466d-918e-6db65a1ec4ca"
      },
      "source": [
        "final_dataframe.append(pd.Series([symbol,price,mcap,'N/A'],index=my_columns),ignore_index=True)"
      ],
      "execution_count": null,
      "outputs": [
        {
          "output_type": "execute_result",
          "data": {
            "text/html": [
              "<div>\n",
              "<style scoped>\n",
              "    .dataframe tbody tr th:only-of-type {\n",
              "        vertical-align: middle;\n",
              "    }\n",
              "\n",
              "    .dataframe tbody tr th {\n",
              "        vertical-align: top;\n",
              "    }\n",
              "\n",
              "    .dataframe thead th {\n",
              "        text-align: right;\n",
              "    }\n",
              "</style>\n",
              "<table border=\"1\" class=\"dataframe\">\n",
              "  <thead>\n",
              "    <tr style=\"text-align: right;\">\n",
              "      <th></th>\n",
              "      <th>Ticker</th>\n",
              "      <th>Stock Price</th>\n",
              "      <th>Market Capitalization</th>\n",
              "      <th>Number Of Shares to Buy</th>\n",
              "    </tr>\n",
              "  </thead>\n",
              "  <tbody>\n",
              "    <tr>\n",
              "      <th>0</th>\n",
              "      <td>AAPL</td>\n",
              "      <td>124.148</td>\n",
              "      <td>2104471668253</td>\n",
              "      <td>N/A</td>\n",
              "    </tr>\n",
              "  </tbody>\n",
              "</table>\n",
              "</div>"
            ],
            "text/plain": [
              "  Ticker  Stock Price Market Capitalization Number Of Shares to Buy\n",
              "0   AAPL      124.148         2104471668253                     N/A"
            ]
          },
          "metadata": {
            "tags": []
          },
          "execution_count": 67
        }
      ]
    },
    {
      "cell_type": "code",
      "metadata": {
        "id": "OriLCNhTulqI"
      },
      "source": [
        "final_dataframe = pd.DataFrame(columns=my_columns)\n",
        "for stock in stocks['Ticker']:\n",
        "    symbol = stock\n",
        "    api_url = f'https://sandbox.iexapis.com/stable/stock/{symbol}/quote/?token={IEX_CLOUD_API_TOKEN}'\n",
        "    data = requests.get(api_url).json()\n",
        "    final_dataframe = final_dataframe.append(pd.Series([stock,data['latestPrice'],data['marketCap'],'N/A'],index=my_columns),ignore_index=True)    "
      ],
      "execution_count": null,
      "outputs": []
    },
    {
      "cell_type": "code",
      "metadata": {
        "id": "5LMMcOzvv8-U"
      },
      "source": [
        "final_dataframe"
      ],
      "execution_count": null,
      "outputs": []
    },
    {
      "cell_type": "code",
      "metadata": {
        "id": "BPIhEHyryNaL"
      },
      "source": [
        "def chunks(lst, n):\n",
        "    \"\"\"Yield successive n-sized chunks from lst.\"\"\"\n",
        "    for i in range(0, len(lst), n):\n",
        "        yield lst[i:i + n]"
      ],
      "execution_count": null,
      "outputs": []
    },
    {
      "cell_type": "code",
      "metadata": {
        "colab": {
          "base_uri": "https://localhost:8080/",
          "height": 419
        },
        "id": "bYSpuyFmyoOc",
        "outputId": "ad985983-b1ff-43a9-8511-335af7830df5"
      },
      "source": [
        "symbol_groups = list(chunks(stocks['Ticker'],100))\n",
        "symbol_strings = []\n",
        "for i in range(0, len(symbol_groups)):\n",
        "    symbol_strings.append(','.join(symbol_groups[i]))\n",
        "    # print(symbol_strings[i])\n",
        "final_dataframe = pd.DataFrame(columns=my_columns)\n",
        "\n",
        "for symbol_string in symbol_strings:\n",
        "    batch_api_call_url = f'https://sandbox.iexapis.com/stable/stock/market/batch?symbols={symbol_string}&types=quote&token={IEX_CLOUD_API_TOKEN}'\n",
        "    data = requests.get(batch_api_call_url).json()\n",
        "    for symbol in symbol_string.split(','):\n",
        "        final_dataframe = final_dataframe.append(pd.Series([symbol,data[symbol]['quote']['latestPrice'],data[symbol]['quote']['marketCap'],'N/A'],index=my_columns),ignore_index=True)\n",
        "final_dataframe"
      ],
      "execution_count": null,
      "outputs": [
        {
          "output_type": "execute_result",
          "data": {
            "text/html": [
              "<div>\n",
              "<style scoped>\n",
              "    .dataframe tbody tr th:only-of-type {\n",
              "        vertical-align: middle;\n",
              "    }\n",
              "\n",
              "    .dataframe tbody tr th {\n",
              "        vertical-align: top;\n",
              "    }\n",
              "\n",
              "    .dataframe thead th {\n",
              "        text-align: right;\n",
              "    }\n",
              "</style>\n",
              "<table border=\"1\" class=\"dataframe\">\n",
              "  <thead>\n",
              "    <tr style=\"text-align: right;\">\n",
              "      <th></th>\n",
              "      <th>Ticker</th>\n",
              "      <th>Stock Price</th>\n",
              "      <th>Market Capitalization</th>\n",
              "      <th>Number Of Shares to Buy</th>\n",
              "    </tr>\n",
              "  </thead>\n",
              "  <tbody>\n",
              "    <tr>\n",
              "      <th>0</th>\n",
              "      <td>A</td>\n",
              "      <td>124.780</td>\n",
              "      <td>38285479514</td>\n",
              "      <td>N/A</td>\n",
              "    </tr>\n",
              "    <tr>\n",
              "      <th>1</th>\n",
              "      <td>AAL</td>\n",
              "      <td>23.142</td>\n",
              "      <td>14901178454</td>\n",
              "      <td>N/A</td>\n",
              "    </tr>\n",
              "    <tr>\n",
              "      <th>2</th>\n",
              "      <td>AAP</td>\n",
              "      <td>189.238</td>\n",
              "      <td>12273442373</td>\n",
              "      <td>N/A</td>\n",
              "    </tr>\n",
              "    <tr>\n",
              "      <th>3</th>\n",
              "      <td>AAPL</td>\n",
              "      <td>123.490</td>\n",
              "      <td>2052268918979</td>\n",
              "      <td>N/A</td>\n",
              "    </tr>\n",
              "    <tr>\n",
              "      <th>4</th>\n",
              "      <td>ABBV</td>\n",
              "      <td>107.110</td>\n",
              "      <td>190013259973</td>\n",
              "      <td>N/A</td>\n",
              "    </tr>\n",
              "    <tr>\n",
              "      <th>...</th>\n",
              "      <td>...</td>\n",
              "      <td>...</td>\n",
              "      <td>...</td>\n",
              "      <td>...</td>\n",
              "    </tr>\n",
              "    <tr>\n",
              "      <th>500</th>\n",
              "      <td>YUM</td>\n",
              "      <td>112.360</td>\n",
              "      <td>32288644235</td>\n",
              "      <td>N/A</td>\n",
              "    </tr>\n",
              "    <tr>\n",
              "      <th>501</th>\n",
              "      <td>ZBH</td>\n",
              "      <td>161.470</td>\n",
              "      <td>34105011454</td>\n",
              "      <td>N/A</td>\n",
              "    </tr>\n",
              "    <tr>\n",
              "      <th>502</th>\n",
              "      <td>ZBRA</td>\n",
              "      <td>476.780</td>\n",
              "      <td>25544799481</td>\n",
              "      <td>N/A</td>\n",
              "    </tr>\n",
              "    <tr>\n",
              "      <th>503</th>\n",
              "      <td>ZION</td>\n",
              "      <td>57.210</td>\n",
              "      <td>9130119901</td>\n",
              "      <td>N/A</td>\n",
              "    </tr>\n",
              "    <tr>\n",
              "      <th>504</th>\n",
              "      <td>ZTS</td>\n",
              "      <td>155.500</td>\n",
              "      <td>75598421496</td>\n",
              "      <td>N/A</td>\n",
              "    </tr>\n",
              "  </tbody>\n",
              "</table>\n",
              "<p>505 rows × 4 columns</p>\n",
              "</div>"
            ],
            "text/plain": [
              "    Ticker  Stock Price Market Capitalization Number Of Shares to Buy\n",
              "0        A      124.780           38285479514                     N/A\n",
              "1      AAL       23.142           14901178454                     N/A\n",
              "2      AAP      189.238           12273442373                     N/A\n",
              "3     AAPL      123.490         2052268918979                     N/A\n",
              "4     ABBV      107.110          190013259973                     N/A\n",
              "..     ...          ...                   ...                     ...\n",
              "500    YUM      112.360           32288644235                     N/A\n",
              "501    ZBH      161.470           34105011454                     N/A\n",
              "502   ZBRA      476.780           25544799481                     N/A\n",
              "503   ZION       57.210            9130119901                     N/A\n",
              "504    ZTS      155.500           75598421496                     N/A\n",
              "\n",
              "[505 rows x 4 columns]"
            ]
          },
          "metadata": {
            "tags": []
          },
          "execution_count": 96
        }
      ]
    },
    {
      "cell_type": "code",
      "metadata": {
        "id": "mmrgNGWH1PGD",
        "colab": {
          "base_uri": "https://localhost:8080/"
        },
        "outputId": "bfadf73f-5d51-4b89-802d-77084c70bf72"
      },
      "source": [
        "portfolio_size = input('Enter your portfolio size:')\n",
        "\n",
        "try:\n",
        "    val = float(portfolio_size)\n",
        "except ValueError:\n",
        "    print('Please enter an integer')"
      ],
      "execution_count": null,
      "outputs": [
        {
          "output_type": "stream",
          "text": [
            "Enter your portfolio size:1000000\n"
          ],
          "name": "stdout"
        }
      ]
    },
    {
      "cell_type": "code",
      "metadata": {
        "colab": {
          "base_uri": "https://localhost:8080/",
          "height": 419
        },
        "id": "7U2zfm9u7EwD",
        "outputId": "77936d76-cc61-4e60-b00e-2734c1dbdc12"
      },
      "source": [
        "position_size = val/len(final_dataframe.index)\n",
        "\n",
        "for i in range(0,len(final_dataframe.index)):\n",
        "    final_dataframe.loc[i,'Number of Shares to Buy'] = math.floor(position_size/final_dataframe.loc[i,'Stock Price'])\n",
        "final_dataframe"
      ],
      "execution_count": null,
      "outputs": [
        {
          "output_type": "execute_result",
          "data": {
            "text/html": [
              "<div>\n",
              "<style scoped>\n",
              "    .dataframe tbody tr th:only-of-type {\n",
              "        vertical-align: middle;\n",
              "    }\n",
              "\n",
              "    .dataframe tbody tr th {\n",
              "        vertical-align: top;\n",
              "    }\n",
              "\n",
              "    .dataframe thead th {\n",
              "        text-align: right;\n",
              "    }\n",
              "</style>\n",
              "<table border=\"1\" class=\"dataframe\">\n",
              "  <thead>\n",
              "    <tr style=\"text-align: right;\">\n",
              "      <th></th>\n",
              "      <th>Ticker</th>\n",
              "      <th>Stock Price</th>\n",
              "      <th>Market Capitalization</th>\n",
              "      <th>Number Of Shares to Buy</th>\n",
              "      <th>Number of Shares to Buy</th>\n",
              "    </tr>\n",
              "  </thead>\n",
              "  <tbody>\n",
              "    <tr>\n",
              "      <th>0</th>\n",
              "      <td>A</td>\n",
              "      <td>124.780</td>\n",
              "      <td>38285479514</td>\n",
              "      <td>N/A</td>\n",
              "      <td>15.0</td>\n",
              "    </tr>\n",
              "    <tr>\n",
              "      <th>1</th>\n",
              "      <td>AAL</td>\n",
              "      <td>23.142</td>\n",
              "      <td>14901178454</td>\n",
              "      <td>N/A</td>\n",
              "      <td>85.0</td>\n",
              "    </tr>\n",
              "    <tr>\n",
              "      <th>2</th>\n",
              "      <td>AAP</td>\n",
              "      <td>189.238</td>\n",
              "      <td>12273442373</td>\n",
              "      <td>N/A</td>\n",
              "      <td>10.0</td>\n",
              "    </tr>\n",
              "    <tr>\n",
              "      <th>3</th>\n",
              "      <td>AAPL</td>\n",
              "      <td>123.490</td>\n",
              "      <td>2052268918979</td>\n",
              "      <td>N/A</td>\n",
              "      <td>16.0</td>\n",
              "    </tr>\n",
              "    <tr>\n",
              "      <th>4</th>\n",
              "      <td>ABBV</td>\n",
              "      <td>107.110</td>\n",
              "      <td>190013259973</td>\n",
              "      <td>N/A</td>\n",
              "      <td>18.0</td>\n",
              "    </tr>\n",
              "    <tr>\n",
              "      <th>...</th>\n",
              "      <td>...</td>\n",
              "      <td>...</td>\n",
              "      <td>...</td>\n",
              "      <td>...</td>\n",
              "      <td>...</td>\n",
              "    </tr>\n",
              "    <tr>\n",
              "      <th>500</th>\n",
              "      <td>YUM</td>\n",
              "      <td>112.360</td>\n",
              "      <td>32288644235</td>\n",
              "      <td>N/A</td>\n",
              "      <td>17.0</td>\n",
              "    </tr>\n",
              "    <tr>\n",
              "      <th>501</th>\n",
              "      <td>ZBH</td>\n",
              "      <td>161.470</td>\n",
              "      <td>34105011454</td>\n",
              "      <td>N/A</td>\n",
              "      <td>12.0</td>\n",
              "    </tr>\n",
              "    <tr>\n",
              "      <th>502</th>\n",
              "      <td>ZBRA</td>\n",
              "      <td>476.780</td>\n",
              "      <td>25544799481</td>\n",
              "      <td>N/A</td>\n",
              "      <td>4.0</td>\n",
              "    </tr>\n",
              "    <tr>\n",
              "      <th>503</th>\n",
              "      <td>ZION</td>\n",
              "      <td>57.210</td>\n",
              "      <td>9130119901</td>\n",
              "      <td>N/A</td>\n",
              "      <td>34.0</td>\n",
              "    </tr>\n",
              "    <tr>\n",
              "      <th>504</th>\n",
              "      <td>ZTS</td>\n",
              "      <td>155.500</td>\n",
              "      <td>75598421496</td>\n",
              "      <td>N/A</td>\n",
              "      <td>12.0</td>\n",
              "    </tr>\n",
              "  </tbody>\n",
              "</table>\n",
              "<p>505 rows × 5 columns</p>\n",
              "</div>"
            ],
            "text/plain": [
              "    Ticker  Stock Price  ... Number Of Shares to Buy Number of Shares to Buy\n",
              "0        A      124.780  ...                     N/A                    15.0\n",
              "1      AAL       23.142  ...                     N/A                    85.0\n",
              "2      AAP      189.238  ...                     N/A                    10.0\n",
              "3     AAPL      123.490  ...                     N/A                    16.0\n",
              "4     ABBV      107.110  ...                     N/A                    18.0\n",
              "..     ...          ...  ...                     ...                     ...\n",
              "500    YUM      112.360  ...                     N/A                    17.0\n",
              "501    ZBH      161.470  ...                     N/A                    12.0\n",
              "502   ZBRA      476.780  ...                     N/A                     4.0\n",
              "503   ZION       57.210  ...                     N/A                    34.0\n",
              "504    ZTS      155.500  ...                     N/A                    12.0\n",
              "\n",
              "[505 rows x 5 columns]"
            ]
          },
          "metadata": {
            "tags": []
          },
          "execution_count": 98
        }
      ]
    },
    {
      "cell_type": "code",
      "metadata": {
        "id": "Lo0wve1w9k28"
      },
      "source": [
        "writer = pd.ExcelWriter(\"/content/drive/MyDrive/StockAnalysis/\")"
      ],
      "execution_count": null,
      "outputs": []
    }
  ]
}